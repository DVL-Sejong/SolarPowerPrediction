{
 "cells": [
  {
   "cell_type": "code",
   "execution_count": 1,
   "metadata": {},
   "outputs": [],
   "source": [
    "import sys\n",
    "import os\n",
    "from pathlib import Path\n",
    "\n",
    "root = Path(os.getcwd()).parent.parent\n",
    "sys.path.append(str(Path(os.getcwd()).parent))"
   ]
  },
  {
   "cell_type": "code",
   "execution_count": null,
   "metadata": {},
   "outputs": [],
   "source": [
    "from constant import FeatureType\n",
    "from loader import Power, Weather\n",
    "\n",
    "import argparse"
   ]
  },
  {
   "cell_type": "markdown",
   "metadata": {},
   "source": [
    "### Experiment"
   ]
  },
  {
   "cell_type": "code",
   "execution_count": 3,
   "metadata": {},
   "outputs": [],
   "source": [
    "parser = argparse.ArgumentParser()\n",
    "args = parser.parse_args(\"\")\n",
    "\n",
    "# ====== Path ====== #\n",
    "args.root = Path(os.getcwd())\n",
    "args.experiment_name = \"LSTM-001\"\n",
    "args.automl_name = 'automl-001'\n",
    "\n",
    "# ====== Model ====== #\n",
    "args.frame_in = 72\n",
    "args.frame_out = 24\n",
    "\n",
    "# ====== Data ====== #\n",
    "args.years = [2017, 2018, 2019]\n",
    "args.region = \"Jindo\"\n",
    "args.station = 192\n",
    "args.ratio = [0.6, 0.2, 0.2]\n",
    "\n",
    "# ====== Features ====== #\n",
    "features = [FeatureType.SUNSHINE,\n",
    "            FeatureType.GROUND_TEMPERATURE,\n",
    "            FeatureType.HUMIDITY,\n",
    "            FeatureType.WIND_SPEED,\n",
    "            FeatureType.WIND_DIRECTION,\n",
    "            FeatureType.TEMPERATURE,\n",
    "            FeatureType.VISIBILITY,\n",
    "            FeatureType.PRECIPITATION,\n",
    "            FeatureType.STEAM_PRESSURE,\n",
    "            FeatureType.DEW_POINT_TEMPERATURE,\n",
    "            FeatureType.ATMOSPHERIC_PRESSURE]\n",
    "\n",
    "power = Power(args)\n",
    "weather = Weather(args, features)\n",
    "\n",
    "power_data = power.get_data()\n",
    "model_manager = Model(power_data['scaler'])\n",
    "setattr(args, 'test_start', power.test_start)\n",
    "setattr(args, 'test_end', power.test_end)\n",
    "\n",
    "y_pred_list = []\n",
    "results = []\n",
    "for i in range(len(features)):\n",
    "    weather_data = weather.get_data(i + 1)\n",
    "    setattr(args, 'feature_len', i + 1)\n",
    "    setattr(args, 'name', 'feature-%02d' % (i + 1))\n",
    "\n",
    "    train = [weather_data['train'], power_data['train']]\n",
    "    val = [weather_data['val'], power_data['val']]\n",
    "    test = [weather_data['test'], power_data['test']]\n",
    "\n",
    "    dataset = {'train': train, 'val': val, 'test': test}\n",
    "    args = model_manager.read_setting(args)\n",
    "    model = model_manager.train(args, dataset)\n",
    "    y_pred = model.predict(dataset['test'][0])\n",
    "    y_pred_list.append(y_pred)\n",
    "    result = model_manager.evaluate(model, dataset['test'][0], dataset['test'][1])\n",
    "    results.append(result)\n",
    "\n",
    "setattr(args, 'features', features)\n",
    "model_manager.save_result(dataset['test'][1], y_pred_list, args)"
   ]
  }
 ],
 "metadata": {
  "kernelspec": {
   "display_name": "Python 3",
   "language": "python",
   "name": "python3"
  },
  "language_info": {
   "codemirror_mode": {
    "name": "ipython",
    "version": 3
   },
   "file_extension": ".py",
   "mimetype": "text/x-python",
   "name": "python",
   "nbconvert_exporter": "python",
   "pygments_lexer": "ipython3",
   "version": "3.7.4"
  }
 },
 "nbformat": 4,
 "nbformat_minor": 4
}
