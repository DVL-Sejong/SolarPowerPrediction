{
 "cells": [
  {
   "cell_type": "code",
   "execution_count": 1,
   "metadata": {},
   "outputs": [],
   "source": [
    "import sys\n",
    "import os\n",
    "from pathlib import Path\n",
    "sys.path.append(str(Path(os.getcwd()).parent))"
   ]
  },
  {
   "cell_type": "code",
   "execution_count": 2,
   "metadata": {},
   "outputs": [
    {
     "ename": "ModuleNotFoundError",
     "evalue": "No module named 'tensorflow'",
     "output_type": "error",
     "traceback": [
      "\u001b[1;31m---------------------------------------------------------------------------\u001b[0m",
      "\u001b[1;31mModuleNotFoundError\u001b[0m                       Traceback (most recent call last)",
      "\u001b[1;32m<ipython-input-2-a711fa2e48af>\u001b[0m in \u001b[0;36m<module>\u001b[1;34m\u001b[0m\n\u001b[0;32m      3\u001b[0m \u001b[1;32mfrom\u001b[0m \u001b[0mskimage\u001b[0m\u001b[1;33m.\u001b[0m\u001b[0mmeasure\u001b[0m \u001b[1;32mimport\u001b[0m \u001b[0mcompare_nrmse\u001b[0m\u001b[1;33m\u001b[0m\u001b[1;33m\u001b[0m\u001b[0m\n\u001b[0;32m      4\u001b[0m \u001b[1;32mimport\u001b[0m \u001b[0mtime\u001b[0m\u001b[1;33m\u001b[0m\u001b[1;33m\u001b[0m\u001b[0m\n\u001b[1;32m----> 5\u001b[1;33m \u001b[1;32mimport\u001b[0m \u001b[0mtensorflow\u001b[0m \u001b[1;32mas\u001b[0m \u001b[0mtf\u001b[0m\u001b[1;33m\u001b[0m\u001b[1;33m\u001b[0m\u001b[0m\n\u001b[0m",
      "\u001b[1;31mModuleNotFoundError\u001b[0m: No module named 'tensorflow'"
     ]
    }
   ],
   "source": [
    "from loader import Loader\n",
    "from copy import deepcopy\n",
    "from skimage.measure import compare_nrmse\n",
    "import time\n",
    "import tensorflow as tf"
   ]
  },
  {
   "cell_type": "markdown",
   "metadata": {},
   "source": [
    "### Train, Validate, Test"
   ]
  },
  {
   "cell_type": "code",
   "execution_count": null,
   "metadata": {},
   "outputs": [],
   "source": [
    "def encoder_decoder(partition, args):\n",
    "    X_train, y_train = partition['train']\n",
    "    X_val, y_val = partition['val']\n",
    "\n",
    "    batch_size = args.batch_size\n",
    "    epochs = args.epochs\n",
    "    callback = tf.keras.callbacks.EarlyStopping(monitor='loss', patience=args.early_stop)\n",
    "\n",
    "    with tf.device('/GPU:0'):\n",
    "        seq = Sequential()\n",
    "        seq.add(LSTM(args.hid_dim, return_state=True))\n",
    "        seq.add(RepeatVector(24))\n",
    "        seq.add(LSTM(args.hid_dim, return_state=True))\n",
    "        seq.add(Dense(1, activation=args.activation))\n",
    "\n",
    "        rmsprop = RMSprop(lr=args.lr)\n",
    "\n",
    "        seq.compile(optimizer=rmsprop, loss=tf.keras.losses.MeanSquaredError(), metrics='accuracy')\n",
    "\n",
    "        history = seq.fit(X_train, y_train, validation_data=(X_val, y_val),\n",
    "                          batch_size=batch_size, epochs=epochs, callbacks=[callback])\n",
    "\n",
    "        scores = seq.evaluate(X_val, y_val, verbose=0)\n",
    "\n",
    "        print('LSTM validation scores:', scores)\n",
    "        print(seq.summary())\n",
    "\n",
    "    return seq, history"
   ]
  },
  {
   "cell_type": "code",
   "execution_count": null,
   "metadata": {},
   "outputs": [],
   "source": [
    "def test(partition, model, args):\n",
    "    X_test, y_test = partition['test']\n",
    "    \n",
    "    y_pred = model.predict(X_test)\n",
    "    y_pred = y_pred.reshape(y_test.shape[0], y_test.shape[1])\n",
    "\n",
    "    nrmse = compare_nrmse(y_test, y_pred)\n",
    "    return y_pred, nrmse"
   ]
  },
  {
   "cell_type": "code",
   "execution_count": null,
   "metadata": {},
   "outputs": [],
   "source": [
    "def experiment(args):\n",
    "    loader = Loader(args)\n",
    "    partition = loader.get_dataset()\n",
    "    \n",
    "    ts = time.time()\n",
    "    model, history = encoder_decoder(partition, args)\n",
    "    te = time.time()\n",
    "    \n",
    "    print('Took {:2.2f} sec for training the model'.format(te-ts))\n",
    "    \n",
    "    y_pred, test_acc = test(partition, model, args)\n",
    "    \n",
    "    # ======= Add Result to Dictionary ======= #\n",
    "    result = {}\n",
    "    result['train_losses'] = history.history['loss']\n",
    "    result['val_losses'] = history.history['val_loss']\n",
    "    result['train_accs'] = history.history['accuracy']\n",
    "    result['val_accs'] = history.history['val_accuracy']\n",
    "    result['train_acc'] = np.mean(history.history['accuracy'])\n",
    "    result['val_acc'] = np.mean(history.history['val_accuracy'])\n",
    "    result['test_nrmse'] = test_acc\n",
    "    result['y_test'] = np.array_str(partition['test'][1])\n",
    "    result['y_pred'] = np.array_str(y_pred)\n",
    "    return vars(args), model, result"
   ]
  },
  {
   "cell_type": "markdown",
   "metadata": {},
   "source": [
    "### Manage Experiment"
   ]
  },
  {
   "cell_type": "code",
   "execution_count": null,
   "metadata": {},
   "outputs": [],
   "source": [
    "def get_filepath(setting, filetype):\n",
    "    exp_name = setting['exp_name']\n",
    "    hash_key = hashlib.sha1(str(setting).encode()).hexdigest()[:6]\n",
    "    \n",
    "    file_format = \"\"\n",
    "    directory = \"\"\n",
    "    if filetype == FileType.MODEL:\n",
    "        file_format = 'h5'\n",
    "        directory = 'models'\n",
    "    elif filetype == FileType.RESULT:\n",
    "        file_format = 'json'\n",
    "        directory = 'results'\n",
    "        \n",
    "    filename = \"%s-%s.%s\" % (exp_name, hash_key, file_format)\n",
    "    filepath = os.path.join(get_working_path(), directory, filename)\n",
    "    return filepath\n",
    "        \n",
    "def save_exp_model(setting, model):\n",
    "    filepath = get_filepath(setting, FileType.MODEL)\n",
    "    model.save(filepath)\n",
    "\n",
    "def save_exp_result(setting, result):\n",
    "    filepath = get_filepath(setting, FileType.RESULT)\n",
    "    \n",
    "    result.update(setting)\n",
    "    with open(filepath, 'w') as f:\n",
    "        json.dump(result, f)\n",
    "        \n",
    "def load_exp_result(exp_name):\n",
    "    dir_path = os.path.join(get_working_path(), \"results\")\n",
    "    filenames = [f for f in listdeir(dir_path) if isfile(join(dir_path, f)) if '.json' in f]\n",
    "    list_result = []\n",
    "    for filename in filenames:\n",
    "        if exp_name in filename:\n",
    "            with open(join(dir_path, filename), 'r') as infile:\n",
    "                results = json.load(infile)\n",
    "                list_result.append(results)\n",
    "    df = pd.DataFrame(list_result)\n",
    "    return df"
   ]
  },
  {
   "cell_type": "code",
   "execution_count": null,
   "metadata": {},
   "outputs": [],
   "source": [
    "# ====== Random Seed Initialization ====== #\n",
    "seed = 1234\n",
    "tf.random.set_seed(seed)\n",
    "\n",
    "parser = argparse.ArgumentParser()\n",
    "args = parser.parse_args(\"\")\n",
    "args.exp_name = \"solar power prediction using weather features\"\n",
    "\n",
    "# ====== Data Loading ====== #\n",
    "args.plant = 126\n",
    "args.spot = 174\n",
    "args.start_date = \"20190820\"\n",
    "args.end_date = \"20200809\"\n",
    "args.batch_size = 64\n",
    "args.x_frames = 3\n",
    "args.y_frames = 1\n",
    "\n",
    "# ====== Model Capacity ===== #\n",
    "args.hid_dim = 256\n",
    "\n",
    "# ====== Optimizer & Training ====== #\n",
    "args.optim = 'RMSprop'\n",
    "args.activation = 'relu'\n",
    "args.lss = 'MSE'\n",
    "args.lr = 0.001\n",
    "args.epochs = 256\n",
    "args.early_stop = 30\n",
    "args.evaluation = 'NRMSE'\n",
    "\n",
    "# ====== Experiment Variable ====== #\n",
    "name_var1 = 'features'\n",
    "list_var1 = [FeatureType.SUNSHINE,\n",
    "                 FeatureType.HUMIDITY,\n",
    "                 FeatureType.WIND_SPEED,\n",
    "                 FeatureType.VISIBILITY,\n",
    "                 FeatureType.GROUND_TEMPERATURE,\n",
    "                 FeatureType.WIND_DIRECTION,\n",
    "                 FeatureType.STEAM_PRESSURE,\n",
    "                 FeatureType.TEMPERATURE,\n",
    "                 FeatureType.PRECIPITATION,\n",
    "                 FeatureType.DEW_POINT_TEMPERATURE,\n",
    "                 FeatureType.ATMOSPHERIC_PRESSURE]\n",
    "\n",
    "for i in range(len(list_var1)):\n",
    "    sub_list = list_var1[:i + 1]\n",
    "\n",
    "    setattr(args, name_var1, str(sub_list))\n",
    "    print(args)\n",
    "\n",
    "    setattr(args, name_var1, sub_list)   \n",
    "    setting, model, result = experiment(deepcopy(args))\n",
    "    save_exp_model(setting, model)\n",
    "    save_exp_result(setting, result)"
   ]
  }
 ],
 "metadata": {
  "kernelspec": {
   "display_name": "Python 3",
   "language": "python",
   "name": "python3"
  },
  "language_info": {
   "codemirror_mode": {
    "name": "ipython",
    "version": 3
   },
   "file_extension": ".py",
   "mimetype": "text/x-python",
   "name": "python",
   "nbconvert_exporter": "python",
   "pygments_lexer": "ipython3",
   "version": "3.8.3"
  }
 },
 "nbformat": 4,
 "nbformat_minor": 4
}
