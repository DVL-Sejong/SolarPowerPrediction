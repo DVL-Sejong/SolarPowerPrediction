{
 "cells": [
  {
   "cell_type": "code",
   "execution_count": 1,
   "metadata": {},
   "outputs": [],
   "source": [
    "import sys\n",
    "import os\n",
    "from pathlib import Path\n",
    "sys.path.append(str(Path(os.getcwd()).parent))"
   ]
  },
  {
   "cell_type": "code",
   "execution_count": 2,
   "metadata": {},
   "outputs": [
    {
     "ename": "ModuleNotFoundError",
     "evalue": "No module named 'keras'",
     "output_type": "error",
     "traceback": [
      "\u001b[1;31m---------------------------------------------------------------------------\u001b[0m",
      "\u001b[1;31mModuleNotFoundError\u001b[0m                       Traceback (most recent call last)",
      "\u001b[1;32m<ipython-input-2-4726f2cac647>\u001b[0m in \u001b[0;36m<module>\u001b[1;34m\u001b[0m\n\u001b[0;32m      3\u001b[0m \u001b[1;32mfrom\u001b[0m \u001b[0mcopy\u001b[0m \u001b[1;32mimport\u001b[0m \u001b[0mdeepcopy\u001b[0m\u001b[1;33m\u001b[0m\u001b[1;33m\u001b[0m\u001b[0m\n\u001b[0;32m      4\u001b[0m \u001b[1;32mfrom\u001b[0m \u001b[0mskimage\u001b[0m\u001b[1;33m.\u001b[0m\u001b[0mmeasure\u001b[0m \u001b[1;32mimport\u001b[0m \u001b[0mcompare_nrmse\u001b[0m\u001b[1;33m\u001b[0m\u001b[1;33m\u001b[0m\u001b[0m\n\u001b[1;32m----> 5\u001b[1;33m \u001b[1;32mfrom\u001b[0m \u001b[0mkeras\u001b[0m\u001b[1;33m.\u001b[0m\u001b[0mmodels\u001b[0m \u001b[1;32mimport\u001b[0m \u001b[0mModel\u001b[0m\u001b[1;33m\u001b[0m\u001b[1;33m\u001b[0m\u001b[0m\n\u001b[0m\u001b[0;32m      6\u001b[0m \u001b[1;32mfrom\u001b[0m \u001b[0mkeras\u001b[0m\u001b[1;33m.\u001b[0m\u001b[0moptimizers\u001b[0m \u001b[1;32mimport\u001b[0m \u001b[0mRMSprop\u001b[0m\u001b[1;33m\u001b[0m\u001b[1;33m\u001b[0m\u001b[0m\n\u001b[0;32m      7\u001b[0m \u001b[1;32mfrom\u001b[0m \u001b[0mkeras\u001b[0m\u001b[1;33m.\u001b[0m\u001b[0mlayers\u001b[0m \u001b[1;32mimport\u001b[0m \u001b[0mInput\u001b[0m\u001b[1;33m,\u001b[0m \u001b[0mLSTM\u001b[0m\u001b[1;33m,\u001b[0m \u001b[0mDense\u001b[0m\u001b[1;33m,\u001b[0m \u001b[0mRepeatVector\u001b[0m\u001b[1;33m\u001b[0m\u001b[1;33m\u001b[0m\u001b[0m\n",
      "\u001b[1;31mModuleNotFoundError\u001b[0m: No module named 'keras'"
     ]
    }
   ],
   "source": [
    "from loader import Loader\n",
    "from constant import FeatureType, FileType\n",
    "from copy import deepcopy\n",
    "from skimage.measure import compare_nrmse\n",
    "from keras.models import Model\n",
    "from keras.optimizers import RMSprop\n",
    "from keras.layers import Input, LSTM, Dense, RepeatVector\n",
    "import time\n",
    "import argparse\n",
    "import numpy as np\n",
    "import tensorflow as tf\n",
    "import hashlib\n",
    "import json"
   ]
  },
  {
   "cell_type": "code",
   "execution_count": null,
   "metadata": {},
   "outputs": [],
   "source": [
    "# ====== Random Seed Initialization ====== #\n",
    "seed = 1234\n",
    "tf.random.set_seed(seed)\n",
    "\n",
    "parser = argparse.ArgumentParser()\n",
    "args = parser.parse_args(\"\")\n",
    "args.exp_name = \"solar power prediction using weather features\"\n",
    "\n",
    "# ====== Data Loading ====== #\n",
    "args.plant = 126\n",
    "args.spot = 174\n",
    "args.start_date = \"20190820\"\n",
    "args.end_date = \"20200809\"\n",
    "args.batch_size = 64\n",
    "args.x_frames = 3\n",
    "args.y_frames = 1\n",
    "\n",
    "# ====== Model Capacity ===== #\n",
    "args.hid_dim = 256\n",
    "\n",
    "# ====== Optimizer & Training ====== #\n",
    "args.optim = 'RMSprop'\n",
    "args.activation = 'relu'\n",
    "args.lss = 'MSE'\n",
    "args.lr = 0.001\n",
    "args.epochs = 256\n",
    "args.early_stop = 30\n",
    "args.evaluation = 'NRMSE'\n",
    "\n",
    "# ====== Experiment Variable ====== #\n",
    "name_var1 = 'features'\n",
    "list_var1 = [FeatureType.SUNSHINE,\n",
    "                 FeatureType.HUMIDITY,\n",
    "                 FeatureType.WIND_SPEED,\n",
    "                 FeatureType.VISIBILITY,\n",
    "                 FeatureType.GROUND_TEMPERATURE,\n",
    "                 FeatureType.WIND_DIRECTION,\n",
    "                 FeatureType.STEAM_PRESSURE,\n",
    "                 FeatureType.TEMPERATURE,\n",
    "                 FeatureType.PRECIPITATION,\n",
    "                 FeatureType.DEW_POINT_TEMPERATURE,\n",
    "                 FeatureType.ATMOSPHERIC_PRESSURE]\n",
    "\n",
    "for i in range(len(list_var1)):\n",
    "    sub_list = list_var1[:i + 1]\n",
    "\n",
    "    setattr(args, name_var1, str(sub_list))\n",
    "    print(args)\n",
    "\n",
    "    setattr(args, name_var1, sub_list)\n",
    "    loader = Loader()\n",
    "    print(loader.train_start, loader.train_end)\n",
    "    print(loader.var_start, loader.val_end)\n",
    "    print(loader.test_start, loader.test_end)\n",
    "    break"
   ]
  },
  {
   "cell_type": "code",
   "execution_count": null,
   "metadata": {},
   "outputs": [],
   "source": []
  }
 ],
 "metadata": {
  "kernelspec": {
   "display_name": "Python 3",
   "language": "python",
   "name": "python3"
  },
  "language_info": {
   "codemirror_mode": {
    "name": "ipython",
    "version": 3
   },
   "file_extension": ".py",
   "mimetype": "text/x-python",
   "name": "python",
   "nbconvert_exporter": "python",
   "pygments_lexer": "ipython3",
   "version": "3.8.3"
  }
 },
 "nbformat": 4,
 "nbformat_minor": 4
}
